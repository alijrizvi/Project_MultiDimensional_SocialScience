{
 "cells": [
  {
   "cell_type": "code",
   "execution_count": 4,
   "id": "1029156b",
   "metadata": {},
   "outputs": [],
   "source": [
    "import pandas as pd\n",
    "import psycopg2\n",
    "\n",
    "# Connecting to the PostgreSQL Database\n",
    "conn = psycopg2.connect(\n",
    "    dbname = \"selfproject1\",\n",
    "    user = \"postgres\",\n",
    "    password = \"!SuperShia3\",\n",
    "    host = \"localhost\",\n",
    "    port = \"4477\"\n",
    ")\n",
    "cur = conn.cursor()"
   ]
  },
  {
   "cell_type": "code",
   "execution_count": 5,
   "id": "558862a1",
   "metadata": {},
   "outputs": [],
   "source": [
    "# Loading in the Excel Workbook\n",
    "file = \"/Users/alijazibrizvi/Documents/Data Analytics/Self-Project | Social Science & Demography/ProjectData.xlsm\""
   ]
  },
  {
   "cell_type": "code",
   "execution_count": 16,
   "id": "709c0f89",
   "metadata": {},
   "outputs": [],
   "source": [
    "# Using Pandas to Read all Sheets in the Excel Workbook\n",
    "xls = pd.ExcelFile(file)\n",
    "\n",
    "# Looping through each Sheet\n",
    "for sheet_name in xls.sheet_names:\n",
    "    try:\n",
    "        ## Reading each Sheet into a Pandas DataFrame\n",
    "        df = pd.read_excel(file, sheet_name=sheet_name)\n",
    "\n",
    "        ## Cleaning the Column Names: Removing Special Characters and Spaces\n",
    "        df.columns = df.columns.str.replace('[^A-Za-z0-9_]+', '', regex=True).str.lower()\n",
    "\n",
    "        ## Ensure column names that start with a number are prefixed with 'col_'\n",
    "        df.columns = [f'col_{col}' if col[0].isdigit() else col for col in df.columns]\n",
    "\n",
    "        ## Cleaning the Sheet Name (Table Name):\n",
    "        cleaned_sheet_name = sheet_name.lower().replace('-', '_').replace('&', 'and').replace(' ', '_')\n",
    "\n",
    "        # Ensure table names that start with a number are prepended with 'tbl_'\n",
    "        if cleaned_sheet_name[0].isdigit():\n",
    "            cleaned_sheet_name = 'tbl_' + cleaned_sheet_name\n",
    "\n",
    "        ## Creating a Table Dynamically, based on the Cleaned Sheet Name\n",
    "        create_table_query = f'''\n",
    "        CREATE TABLE IF NOT EXISTS {cleaned_sheet_name} (\n",
    "        {', '.join([f\"{col} VARCHAR(255)\" for col in df.columns])}\n",
    "        );\n",
    "        '''\n",
    "\n",
    "        # Execute the create table query\n",
    "        cur.execute(create_table_query)\n",
    "\n",
    "        # Insert data into the table\n",
    "        for index, row in df.iterrows():\n",
    "            insert_query = f'''\n",
    "            INSERT INTO {cleaned_sheet_name} ({', '.join(df.columns)})\n",
    "            VALUES ({', '.join(['%s'] * len(df.columns))});\n",
    "            '''\n",
    "            cur.execute(insert_query, tuple(row))\n",
    "        \n",
    "        # Commit after each sheet's data is inserted\n",
    "        conn.commit()\n",
    "    \n",
    "    except Exception as e:\n",
    "        print(f\"Error creating table for {sheet_name}: {e}\")\n",
    "        conn.rollback()  # Rollback if there is an error"
   ]
  },
  {
   "cell_type": "code",
   "execution_count": 17,
   "id": "0dc634bf",
   "metadata": {},
   "outputs": [],
   "source": [
    "# Close the Cursor and the Connection\n",
    "cur.close()\n",
    "conn.close()"
   ]
  }
 ],
 "metadata": {
  "kernelspec": {
   "display_name": "Python 3 (ipykernel)",
   "language": "python",
   "name": "python3"
  },
  "language_info": {
   "codemirror_mode": {
    "name": "ipython",
    "version": 3
   },
   "file_extension": ".py",
   "mimetype": "text/x-python",
   "name": "python",
   "nbconvert_exporter": "python",
   "pygments_lexer": "ipython3",
   "version": "3.11.5"
  }
 },
 "nbformat": 4,
 "nbformat_minor": 5
}
